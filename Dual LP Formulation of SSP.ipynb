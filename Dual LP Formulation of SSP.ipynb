{
 "cells": [
  {
   "cell_type": "markdown",
   "metadata": {},
   "source": [
    "# <center><h2>Primal and Dual representation of a SSP</h2></center>"
   ]
  },
  {
   "cell_type": "markdown",
   "metadata": {},
   "source": [
    "<img src='image_c'>"
   ]
  },
  {
   "cell_type": "markdown",
   "metadata": {},
   "source": [
    "# Dual LP Formulation of SSP\n",
    "\n"
   ]
  },
  {
   "cell_type": "markdown",
   "metadata": {},
   "source": [
    "In this formulation, shown in (LP 1), the variables are the policy’s occupation measures $x_{s,a}$ and represent the expected number of times action $a ∈ A(s)$ will be executed in state $s$."
   ]
  },
  {
   "cell_type": "markdown",
   "metadata": {},
   "source": [
    "\n",
    "\\begin{equation*}\n",
    "\\underset{x}{min} \\sum_{s\\in S,a\\in A(s)} x_{s,a}C(a) \\quad \\text{s.t. (C1) - (C6)}  \\tag{LP 1}\n",
    "\\end{equation*}"
   ]
  },
  {
   "cell_type": "markdown",
   "metadata": {},
   "source": [
    "\n",
    "$$\n",
    "x_{s,a}\\geq 0 \\quad \\forall s\\in S, a \\in A(s) \\tag{C1}\n",
    "$$"
   ]
  },
  {
   "cell_type": "markdown",
   "metadata": {
    "collapsed": true
   },
   "source": [
    "$$\n",
    "out(s_0)-in(s_0)=1\t\\tag{C2}\n",
    "$$"
   ]
  },
  {
   "cell_type": "markdown",
   "metadata": {},
   "source": [
    "$$\n",
    "\\sum_{s_g\\in G}in(s_g)=1 \\tag{C3}\n",
    "$$"
   ]
  },
  {
   "cell_type": "markdown",
   "metadata": {},
   "source": [
    "$$\n",
    "out(s)-in(s) = 0 \\quad \\forall s \\in S \\setminus (G\\cup \\{s_0\\} ) \\tag{C4}\n",
    "$$"
   ]
  },
  {
   "cell_type": "markdown",
   "metadata": {},
   "source": [
    "$$\n",
    "in(s) = \\sum_{s'\\in S, a \\in App(s')}x_{s',a}P(s,|s',a)\t\\tag{C5}\n",
    "$$"
   ]
  },
  {
   "cell_type": "markdown",
   "metadata": {},
   "source": [
    "$$\n",
    "out(s) = \\sum_{a\\in App(s)} x_{s,a} \\quad \\forall s\\in S\\setminus G \\tag{C6}\n",
    "$$"
   ]
  },
  {
   "cell_type": "markdown",
   "metadata": {},
   "source": [
    "# Example"
   ]
  },
  {
   "cell_type": "code",
   "execution_count": 30,
   "metadata": {},
   "outputs": [
    {
     "data": {
      "image/svg+xml": [
       "<svg height=\"222pt\" viewBox=\"0.00 0.00 152.00 221.60\" width=\"152pt\" xmlns=\"http://www.w3.org/2000/svg\" xmlns:xlink=\"http://www.w3.org/1999/xlink\">\n",
       "<g class=\"graph\" id=\"graph0\" transform=\"scale(1 1) rotate(0) translate(4 217.6)\">\n",
       "<title>%3</title>\n",
       "<polygon fill=\"#ffffff\" points=\"-4,4 -4,-217.6 148,-217.6 148,4 -4,4\" stroke=\"transparent\"/>\n",
       "<!-- A -->\n",
       "<g class=\"node\" id=\"node1\">\n",
       "<title>A</title>\n",
       "<ellipse cx=\"99\" cy=\"-195.6\" fill=\"none\" rx=\"27\" ry=\"18\" stroke=\"#000000\"/>\n",
       "<text fill=\"#000000\" font-family=\"Times,serif\" font-size=\"14.00\" text-anchor=\"middle\" x=\"99\" y=\"-191.4\">A</text>\n",
       "</g>\n",
       "<!-- B -->\n",
       "<g class=\"node\" id=\"node2\">\n",
       "<title>B</title>\n",
       "<ellipse cx=\"27\" cy=\"-106.8\" fill=\"none\" rx=\"27\" ry=\"18\" stroke=\"#000000\"/>\n",
       "<text fill=\"#000000\" font-family=\"Times,serif\" font-size=\"14.00\" text-anchor=\"middle\" x=\"27\" y=\"-102.6\">B</text>\n",
       "</g>\n",
       "<!-- A&#45;&gt;B -->\n",
       "<g class=\"edge\" id=\"edge1\">\n",
       "<title>A-&gt;B</title>\n",
       "<path d=\"M86.1278,-179.7243C75.1384,-166.1707 59.1627,-146.4674 46.587,-130.9573\" fill=\"none\" stroke=\"#000000\"/>\n",
       "<polygon fill=\"#000000\" points=\"49.0202,-128.4009 40.0035,-122.8376 43.5829,-132.8095 49.0202,-128.4009\" stroke=\"#000000\"/>\n",
       "<text fill=\"#000000\" font-family=\"Times,serif\" font-size=\"14.00\" text-anchor=\"middle\" x=\"72.5\" y=\"-147\">2</text>\n",
       "</g>\n",
       "<!-- C -->\n",
       "<g class=\"node\" id=\"node3\">\n",
       "<title>C</title>\n",
       "<ellipse cx=\"99\" cy=\"-106.8\" fill=\"none\" rx=\"27\" ry=\"18\" stroke=\"#000000\"/>\n",
       "<text fill=\"#000000\" font-family=\"Times,serif\" font-size=\"14.00\" text-anchor=\"middle\" x=\"99\" y=\"-102.6\">C</text>\n",
       "</g>\n",
       "<!-- A&#45;&gt;C -->\n",
       "<g class=\"edge\" id=\"edge2\">\n",
       "<title>A-&gt;C</title>\n",
       "<path d=\"M99,-177.2006C99,-165.0949 99,-149.0076 99,-135.2674\" fill=\"none\" stroke=\"#000000\"/>\n",
       "<polygon fill=\"#000000\" points=\"102.5001,-134.872 99,-124.872 95.5001,-134.8721 102.5001,-134.872\" stroke=\"#000000\"/>\n",
       "<text fill=\"#000000\" font-family=\"Times,serif\" font-size=\"14.00\" text-anchor=\"middle\" x=\"102.5\" y=\"-147\">1</text>\n",
       "</g>\n",
       "<!-- D -->\n",
       "<g class=\"node\" id=\"node4\">\n",
       "<title>D</title>\n",
       "<ellipse cx=\"99\" cy=\"-18\" fill=\"none\" rx=\"27\" ry=\"18\" stroke=\"#000000\"/>\n",
       "<text fill=\"#000000\" font-family=\"Times,serif\" font-size=\"14.00\" text-anchor=\"middle\" x=\"99\" y=\"-13.8\">D</text>\n",
       "</g>\n",
       "<!-- A&#45;&gt;D -->\n",
       "<g class=\"edge\" id=\"edge3\">\n",
       "<title>A-&gt;D</title>\n",
       "<path d=\"M110.2762,-179.0261C118.9549,-165.2088 130.2441,-144.6464 135,-124.8 138.7286,-109.2405 138.7286,-104.3595 135,-88.8 131.173,-72.8298 123.1155,-56.3961 115.592,-43.3863\" fill=\"none\" stroke=\"#000000\"/>\n",
       "<polygon fill=\"#000000\" points=\"118.4384,-41.3289 110.2762,-34.5739 112.4445,-44.9445 118.4384,-41.3289\" stroke=\"#000000\"/>\n",
       "<text fill=\"#000000\" font-family=\"Times,serif\" font-size=\"14.00\" text-anchor=\"middle\" x=\"140.5\" y=\"-102.6\">5</text>\n",
       "</g>\n",
       "<!-- B&#45;&gt;D -->\n",
       "<g class=\"edge\" id=\"edge4\">\n",
       "<title>B-&gt;D</title>\n",
       "<path d=\"M39.8722,-90.9243C50.8616,-77.3707 66.8373,-57.6674 79.413,-42.1573\" fill=\"none\" stroke=\"#000000\"/>\n",
       "<polygon fill=\"#000000\" points=\"82.4171,-44.0095 85.9965,-34.0376 76.9798,-39.6009 82.4171,-44.0095\" stroke=\"#000000\"/>\n",
       "<text fill=\"#000000\" font-family=\"Times,serif\" font-size=\"14.00\" text-anchor=\"middle\" x=\"72.5\" y=\"-58.2\">2</text>\n",
       "</g>\n",
       "<!-- C&#45;&gt;D -->\n",
       "<g class=\"edge\" id=\"edge5\">\n",
       "<title>C-&gt;D</title>\n",
       "<path d=\"M99,-88.4006C99,-76.2949 99,-60.2076 99,-46.4674\" fill=\"none\" stroke=\"#000000\"/>\n",
       "<polygon fill=\"#000000\" points=\"102.5001,-46.072 99,-36.072 95.5001,-46.0721 102.5001,-46.072\" stroke=\"#000000\"/>\n",
       "<text fill=\"#000000\" font-family=\"Times,serif\" font-size=\"14.00\" text-anchor=\"middle\" x=\"102.5\" y=\"-58.2\">2</text>\n",
       "</g>\n",
       "</g>\n",
       "</svg>"
      ],
      "text/plain": [
       "<IPython.core.display.SVG object>"
      ]
     },
     "execution_count": 30,
     "metadata": {},
     "output_type": "execute_result"
    }
   ],
   "source": [
    "from IPython.display import display, Image, SVG, Math, YouTubeVideo\n",
    "\n",
    "SVG(filename='example.svg')"
   ]
  },
  {
   "cell_type": "markdown",
   "metadata": {},
   "source": [
    "\n",
    "<p><strong>STEP 1:</strong> Define the optimization parameter (this case we want to minimize the cost). For this we use LpMinimize.</p>"
   ]
  },
  {
   "cell_type": "code",
   "execution_count": 31,
   "metadata": {
    "collapsed": true
   },
   "outputs": [],
   "source": [
    "from pulp import *\n",
    "\n",
    "SSP = LpProblem(\"SSP01\", LpMinimize)"
   ]
  },
  {
   "cell_type": "markdown",
   "metadata": {},
   "source": [
    "<hr>\n",
    "<p><strong>STEP 2:</strong> Declaring variables, the first parameter of LpVariable define a lower value of it. We set it as 0 to follow (C1)"
   ]
  },
  {
   "cell_type": "markdown",
   "metadata": {},
   "source": [
    "Occupation measure variables"
   ]
  },
  {
   "cell_type": "code",
   "execution_count": 32,
   "metadata": {
    "collapsed": true
   },
   "outputs": [],
   "source": [
    "Aa1 = LpVariable(\"Aa1\",0)\n",
    "Aa2 = LpVariable(\"Aa2\",0)\n",
    "Bb1 = LpVariable(\"Bb1\",0)\n",
    "Cc1 = LpVariable(\"Cc1\",0)"
   ]
  },
  {
   "cell_type": "markdown",
   "metadata": {},
   "source": [
    "Out fluent variables"
   ]
  },
  {
   "cell_type": "code",
   "execution_count": 33,
   "metadata": {
    "collapsed": true
   },
   "outputs": [],
   "source": [
    "OUT_A = LpVariable(\"OUT_A\",0)\n",
    "OUT_B = LpVariable(\"OUT_B\",0)\n",
    "OUT_C = LpVariable(\"OUT_C\",0)\n",
    "OUT_D = LpVariable(\"OUT_D\",0)"
   ]
  },
  {
   "cell_type": "markdown",
   "metadata": {},
   "source": [
    "In fluent variables"
   ]
  },
  {
   "cell_type": "code",
   "execution_count": 34,
   "metadata": {
    "collapsed": true
   },
   "outputs": [],
   "source": [
    "IN_A = LpVariable(\"IN_A\",0)\n",
    "IN_B = LpVariable(\"IN_B\",0)\n",
    "IN_C = LpVariable(\"IN_C\",0)\n",
    "IN_D = LpVariable(\"IN_D\",0)"
   ]
  },
  {
   "cell_type": "markdown",
   "metadata": {},
   "source": [
    "<hr>\n",
    "<p><strong>STEP 3:</strong> Define the objective function. Coeficients represent the immediate cost of an action."
   ]
  },
  {
   "cell_type": "code",
   "execution_count": 35,
   "metadata": {
    "collapsed": true
   },
   "outputs": [],
   "source": [
    "SSP += Aa1*10 + Aa2*1 + Bb1*1 + Cc1*1"
   ]
  },
  {
   "cell_type": "markdown",
   "metadata": {},
   "source": [
    "<hr>\n",
    "<p><strong>STEP 4:</strong> Add the constraints."
   ]
  },
  {
   "cell_type": "markdown",
   "metadata": {},
   "source": [
    "C1: Added in STEP 2 - Occupation measure variales\n",
    "\n",
    "\n",
    "$$\n",
    "x_{s,a}\\geq 0 \\quad \\forall s\\in S, a \\in App(s) \\tag{C1}\n",
    "$$\n",
    "\n"
   ]
  },
  {
   "cell_type": "markdown",
   "metadata": {},
   "source": [
    "C2: Define the source state $s$.\n",
    "$$\n",
    "out(s_0)-in(s_0)=1\t\\tag{C2}\n",
    "$$"
   ]
  },
  {
   "cell_type": "code",
   "execution_count": 36,
   "metadata": {
    "collapsed": true
   },
   "outputs": [],
   "source": [
    "SSP += OUT_A - IN_A == 1"
   ]
  },
  {
   "cell_type": "markdown",
   "metadata": {},
   "source": [
    "C3: Define the sink\n",
    "$$\n",
    "\\sum_{s_g\\in G}in(s_g)=1 \\tag{C3}\n",
    "$$\n"
   ]
  },
  {
   "cell_type": "code",
   "execution_count": 37,
   "metadata": {
    "collapsed": true
   },
   "outputs": [],
   "source": [
    "SSP += IN_D == 1"
   ]
  },
  {
   "cell_type": "markdown",
   "metadata": {},
   "source": [
    "C4: Define the flow conservation principle, i.e., the flow reaching $s$ must leave $s$.\n",
    "\n",
    "$$\n",
    "out(s)-in(s) = 0 \\quad \\forall s \\in S \\setminus (G\\cup \\{s_0\\} ) \\tag{C4}\n",
    "$$"
   ]
  },
  {
   "cell_type": "code",
   "execution_count": 38,
   "metadata": {
    "collapsed": true
   },
   "outputs": [],
   "source": [
    "SSP += OUT_B - IN_B == 0\n",
    "SSP += OUT_C - IN_C == 0"
   ]
  },
  {
   "cell_type": "markdown",
   "metadata": {},
   "source": [
    "C5: Define the expected flow entering of a state $s$. In this example all transition are deterministics (P)\n",
    "\n",
    "$$\n",
    "in(s) = \\sum_{s'\\in S, a \\in App(s')}x_{s',a}P(s,|s',a)\t\\tag{C5}\n",
    "$$"
   ]
  },
  {
   "cell_type": "code",
   "execution_count": 39,
   "metadata": {
    "collapsed": true
   },
   "outputs": [],
   "source": [
    "SSP += IN_B == Aa1\n",
    "SSP += IN_C == Aa2*0.3\n",
    "SSP += IN_D == Bb1 + Aa2*0.7 + Cc1"
   ]
  },
  {
   "cell_type": "markdown",
   "metadata": {},
   "source": [
    "C6: Define the expected flow leaving of a state $s$.\n",
    "\n",
    "$$\n",
    "out(s) = \\sum_{a\\in App(s)} x_{s,a} \\quad \\forall s\\in S\\setminus G \\tag{C6}\n",
    "$$"
   ]
  },
  {
   "cell_type": "code",
   "execution_count": 40,
   "metadata": {
    "collapsed": true
   },
   "outputs": [],
   "source": [
    "SSP += OUT_A == Aa1 + Aa2 \n",
    "SSP += OUT_B == Bb1\n",
    "SSP += OUT_C == Cc1\n"
   ]
  },
  {
   "cell_type": "markdown",
   "metadata": {},
   "source": [
    "<hr>\n",
    "<p><strong>STEP 5:</strong> Call a LP Solver and print the solution"
   ]
  },
  {
   "cell_type": "code",
   "execution_count": 41,
   "metadata": {},
   "outputs": [
    {
     "name": "stdout",
     "output_type": "stream",
     "text": [
      "Aa1 = 0.0\n",
      "Aa2 = 1.0\n",
      "Bb1 = 0.0\n",
      "Cc1 = 0.3\n",
      "IN_A = 0.0\n",
      "IN_B = 0.0\n",
      "IN_C = 0.3\n",
      "IN_D = 1.0\n",
      "OUT_A = 1.0\n",
      "OUT_B = 0.0\n",
      "OUT_C = 0.3\n",
      "objective= 1.3\n"
     ]
    }
   ],
   "source": [
    "GLPK().solve(SSP)\n",
    "\n",
    "# Solution\n",
    "for v in SSP.variables():\n",
    "\tprint(v.name, \"=\", v.varValue)\n",
    "\n",
    "print(\"objective=\", value(SSP.objective))"
   ]
  },
  {
   "cell_type": "markdown",
   "metadata": {},
   "source": [
    "# Running full code"
   ]
  },
  {
   "cell_type": "code",
   "execution_count": 15,
   "metadata": {},
   "outputs": [
    {
     "name": "stdout",
     "output_type": "stream",
     "text": [
      "Aa1 = 0.0\n",
      "Aa2 = 1.0\n",
      "Aa3 = 0.0\n",
      "Bb1 = 0.0\n",
      "Cc1 = 1.0\n",
      "IN_A = 0.0\n",
      "IN_B = 0.0\n",
      "IN_C = 1.0\n",
      "IN_D = 1.0\n",
      "OUT_A = 1.0\n",
      "OUT_B = 0.0\n",
      "OUT_C = 1.0\n",
      "objective= 3.0\n"
     ]
    }
   ],
   "source": [
    "from pulp import *\n",
    "\n",
    "SSP = LpProblem(\"SSP01\", LpMinimize)\n",
    "\n",
    "\n",
    "#declare variables\n",
    "\n",
    "Aa1 = LpVariable(\"Aa1\",0)\n",
    "Aa2 = LpVariable(\"Aa2\",0)\n",
    "Aa3 = LpVariable(\"Aa3\",0)\n",
    "Bb1 = LpVariable(\"Bb1\",0)\n",
    "Cc1 = LpVariable(\"Cc1\",0)\n",
    "\n",
    "OUT_A = LpVariable(\"OUT_A\",0)\n",
    "OUT_B = LpVariable(\"OUT_B\",0)\n",
    "OUT_C = LpVariable(\"OUT_C\",0)\n",
    "OUT_D = LpVariable(\"OUT_D\",0)\n",
    "\n",
    "IN_A = LpVariable(\"IN_A\",0)\n",
    "IN_B = LpVariable(\"IN_B\",0)\n",
    "IN_C = LpVariable(\"IN_C\",0)\n",
    "IN_D = LpVariable(\"IN_D\",0)\n",
    "\n",
    "\n",
    "#Objective\n",
    "\n",
    "SSP += Aa1*2 + Aa2*1 + Aa3*5 + Bb1*2 + Cc1*2\n",
    "\n",
    "\n",
    "#Constraints\n",
    "\n",
    "#C1 - Done\n",
    "\n",
    "#C2\n",
    "\n",
    "SSP += OUT_A - IN_A == 1\n",
    "\n",
    "#C3\n",
    "\n",
    "SSP += IN_D == 1\n",
    "\n",
    "#C4\n",
    "\n",
    "SSP += OUT_B - IN_B == 0\n",
    "SSP += OUT_C - IN_C == 0\n",
    "\n",
    "#C5\n",
    "\n",
    "SSP += IN_B == Aa1\n",
    "SSP += IN_C == Aa2\n",
    "SSP += IN_D == Bb1 + Aa3 + Cc1\n",
    "\n",
    "#C6\n",
    "\n",
    "SSP += OUT_A == Aa1 + Aa2 + Aa3\n",
    "SSP += OUT_B == Bb1\n",
    "SSP += OUT_C == Cc1\n",
    "\n",
    "\n",
    "GLPK().solve(SSP)\n",
    "\n",
    "# Solution\n",
    "for v in SSP.variables():\n",
    "\tprint(v.name, \"=\", v.varValue)\n",
    "\n",
    "print(\"objective=\", value(SSP.objective))"
   ]
  },
  {
   "cell_type": "markdown",
   "metadata": {},
   "source": [
    "<hr>\n",
    "# Dual LP Formulation for SSPUDE"
   ]
  },
  {
   "cell_type": "markdown",
   "metadata": {},
   "source": [
    "This formulation allows solve problems with unavoidable dead-ends"
   ]
  },
  {
   "cell_type": "markdown",
   "metadata": {},
   "source": [
    "$$\n",
    "\\underset{x}{min} \\sum_{s\\in S,a\\in A(s)} x_{s,a}C(s,a) \\quad \\text{s.t. (C1) - (C6)} \\tag{LP 1 modified}\n",
    "$$"
   ]
  },
  {
   "cell_type": "markdown",
   "metadata": {},
   "source": [
    "$$\n",
    "x_{s,a}\\geq 0 \\quad \\forall s\\in S, a \\in A(s) \\tag{C1}\n",
    "$$\n"
   ]
  },
  {
   "cell_type": "markdown",
   "metadata": {},
   "source": [
    "$$\n",
    "in(s) = \\sum_{s'\\in S, a \\in App(s')}x_{s',a}P(s,|s',a)\t\\tag{C2}\n",
    "$$"
   ]
  },
  {
   "cell_type": "markdown",
   "metadata": {},
   "source": [
    "$$\n",
    "out(s) = \\sum_{a\\in App(s)} x_{s,a} \\quad \\forall s\\in S \\tag{C3}\n",
    "$$\n"
   ]
  },
  {
   "cell_type": "markdown",
   "metadata": {},
   "source": [
    "$$\n",
    "out(s)-in(s) \\leq 0 \\quad \\forall s \\in S \\setminus (G\\cup \\{s_0\\} ) \\tag{C4 modified}\n",
    "$$"
   ]
  },
  {
   "cell_type": "markdown",
   "metadata": {},
   "source": [
    "$$\n",
    "out(s_0)-in(s_0) \\leq 1\t\\tag{C5}\n",
    "$$"
   ]
  },
  {
   "cell_type": "markdown",
   "metadata": {},
   "source": [
    "$$\n",
    "\\sum_{s_g\\in G} in(s_g) = p^{max}\\tag{C6 modified}\n",
    "$$"
   ]
  },
  {
   "cell_type": "markdown",
   "metadata": {},
   "source": [
    "# Example"
   ]
  },
  {
   "cell_type": "markdown",
   "metadata": {},
   "source": [
    "<img src='mcmp.png'>"
   ]
  },
  {
   "cell_type": "markdown",
   "metadata": {},
   "source": [
    "# Code"
   ]
  },
  {
   "cell_type": "code",
   "execution_count": 12,
   "metadata": {},
   "outputs": [
    {
     "name": "stdout",
     "output_type": "stream",
     "text": [
      "D2a1 = 0.0\n",
      "D3a1 = 0.0\n",
      "IN_D1 = 0.66\n",
      "IN_D2 = 0.0\n",
      "IN_D3 = 0.0\n",
      "IN_S0 = 0.33\n",
      "IN_S1 = 0.66\n",
      "IN_S2 = 0.0\n",
      "IN_Sg = 0.33\n",
      "OUT_D1 = 0.0\n",
      "OUT_D2 = 0.0\n",
      "OUT_D3 = 0.0\n",
      "OUT_S0 = 1.32\n",
      "OUT_S1 = 0.66\n",
      "OUT_S2 = 0.0\n",
      "S0a0 = 1.32\n",
      "S0a1 = 0.0\n",
      "S1a0 = 0.66\n",
      "S2a1 = 0.0\n",
      "Objective = 3.3\n",
      "SSPUDE:\n",
      "MINIMIZE\n",
      "1*S0a0 + 1*S0a1 + 3*S1a0 + 2*S2a1 + 0\n",
      "SUBJECT TO\n",
      "_C1: IN_S0 - 0.5 S1a0 - 0.25 S2a1 = 0\n",
      "\n",
      "_C2: IN_S1 - 0.5 S0a0 = 0\n",
      "\n",
      "_C3: IN_S2 - S0a1 = 0\n",
      "\n",
      "_C4: IN_Sg - 0.5 S1a0 - 0.25 S2a1 = 0\n",
      "\n",
      "_C5: IN_D1 - 0.5 S0a0 = 0\n",
      "\n",
      "_C6: - D3a1 + IN_D2 - 0.5 S2a1 = 0\n",
      "\n",
      "_C7: - D2a1 + IN_D3 = 0\n",
      "\n",
      "_C8: OUT_S0 - S0a0 - S0a1 = 0\n",
      "\n",
      "_C9: OUT_S1 - S1a0 = 0\n",
      "\n",
      "_C10: OUT_S2 - S2a1 = 0\n",
      "\n",
      "_C11: - D2a1 + OUT_D2 = 0\n",
      "\n",
      "_C12: - D3a1 + OUT_D3 = 0\n",
      "\n",
      "_C13: - IN_S1 + OUT_S1 <= 0\n",
      "\n",
      "_C14: - IN_S2 + OUT_S2 <= 0\n",
      "\n",
      "_C15: - IN_D1 + OUT_D1 <= 0\n",
      "\n",
      "_C16: - IN_D2 + OUT_D2 <= 0\n",
      "\n",
      "_C17: - IN_D3 + OUT_D3 <= 0\n",
      "\n",
      "_C18: - IN_S0 + OUT_S0 <= 1\n",
      "\n",
      "_C19: IN_Sg = 0.33\n",
      "\n",
      "VARIABLES\n",
      "D2a1 Continuous\n",
      "D3a1 Continuous\n",
      "IN_D1 Continuous\n",
      "IN_D2 Continuous\n",
      "IN_D3 Continuous\n",
      "IN_S0 Continuous\n",
      "IN_S1 Continuous\n",
      "IN_S2 Continuous\n",
      "IN_Sg Continuous\n",
      "OUT_D1 Continuous\n",
      "OUT_D2 Continuous\n",
      "OUT_D3 Continuous\n",
      "OUT_S0 Continuous\n",
      "OUT_S1 Continuous\n",
      "OUT_S2 Continuous\n",
      "S0a0 Continuous\n",
      "S0a1 Continuous\n",
      "S1a0 Continuous\n",
      "S2a1 Continuous\n",
      "\n"
     ]
    }
   ],
   "source": [
    "from pulp import *\n",
    "\n",
    "SSP = LpProblem(\"SSPUDE\", LpMinimize)\n",
    "\n",
    "\n",
    "#declare variables\n",
    "\n",
    "S0a0 = LpVariable(\"S0a0\", 0)\n",
    "S0a1 = LpVariable(\"S0a1\", 0)\n",
    "S1a0 = LpVariable(\"S1a0\", 0)\n",
    "S2a1 = LpVariable(\"S2a1\", 0)\n",
    "D2a1 = LpVariable(\"D2a1\", 0)\n",
    "D3a1 = LpVariable(\"D3a1\", 0)\n",
    "\n",
    "OUT_S0 = LpVariable(\"OUT_S0\",0)\n",
    "OUT_S1 = LpVariable(\"OUT_S1\",0)\n",
    "OUT_S2 = LpVariable(\"OUT_S2\",0)\n",
    "OUT_Sg = LpVariable(\"OUT_Sg\",0)\n",
    "OUT_D1 = LpVariable(\"OUT_D1\",0)\n",
    "OUT_D2 = LpVariable(\"OUT_D2\",0)\n",
    "OUT_D3 = LpVariable(\"OUT_D3\",0)\n",
    "\n",
    "IN_S0 = LpVariable(\"IN_S0\",0)\n",
    "IN_S1 = LpVariable(\"IN_S1\",0)\n",
    "IN_S2 = LpVariable(\"IN_S2\",0)\n",
    "IN_Sg = LpVariable(\"IN_Sg\",0)\n",
    "IN_D1 = LpVariable(\"IN_D1\",0)\n",
    "IN_D2 = LpVariable(\"IN_D2\",0)\n",
    "IN_D3 = LpVariable(\"IN_D3\",0)\n",
    "\n",
    "#Objective\n",
    "\n",
    "SSP += S0a0 + S0a1+ S1a0*3 + S2a1*2\n",
    "\n",
    "#COnstraints\n",
    "\n",
    "#C1\n",
    "#C2\n",
    "\n",
    "SSP += IN_S0 == S2a1*0.25 + S1a0*0.5\n",
    "SSP += IN_S1 == S0a0*0.5\n",
    "SSP += IN_S2 == S0a1\n",
    "SSP += IN_Sg == S1a0*0.5 + S2a1*0.25\n",
    "SSP += IN_D1 == S0a0*0.5\n",
    "SSP += IN_D2 == S2a1*0.5 + D3a1\n",
    "SSP += IN_D3 == D2a1\n",
    "\n",
    "#C3\n",
    "\n",
    "SSP += OUT_S0 == S0a0 + S0a1 \n",
    "SSP += OUT_S1 == S1a0  \n",
    "SSP += OUT_S2 == S2a1\n",
    "SSP += OUT_D2 == D2a1 \n",
    "SSP += OUT_D3 == D3a1\n",
    "\n",
    "#C4\n",
    "\n",
    "#SSP += OUT_S0 - IN_S0 <= 0\n",
    "SSP += OUT_S1 - IN_S1 <= 0\n",
    "SSP += OUT_S2 - IN_S2 <= 0 \n",
    "#SSP += OUT_Sg - IN_Sg <= 0\n",
    "SSP += OUT_D1 - IN_D1 <= 0\n",
    "SSP += OUT_D2 - IN_D2 <= 0\n",
    "SSP += OUT_D3 - IN_D3 <= 0\n",
    "\n",
    "#C5\n",
    "\n",
    "SSP += OUT_S0 - IN_S0 <= 1\n",
    "\n",
    "#C6 \n",
    "SSP += IN_Sg == 0.33\n",
    "\n",
    "\n",
    "GLPK().solve(SSP)\n",
    "\n",
    "# Solution\n",
    "for v in SSP.variables():\n",
    "\tprint(v.name, \"=\", v.varValue)\n",
    "\n",
    "    \n",
    "print(\"Objective =\", value(SSP.objective) )\n",
    "\n",
    "print(SSP)\n",
    "\n",
    "\n"
   ]
  },
  {
   "cell_type": "markdown",
   "metadata": {},
   "source": [
    "    <img src='mcmp.png'>"
   ]
  },
  {
   "cell_type": "markdown",
   "metadata": {},
   "source": [
    "# How to calculate $p^{max}$?"
   ]
  },
  {
   "cell_type": "markdown",
   "metadata": {},
   "source": [
    "$$\n",
    "max \\sum in(s_g) \\quad \\text{s.t. (C1) - (C3), (C7) - (C8)} \\tag{LP 2}\n",
    "$$"
   ]
  },
  {
   "cell_type": "markdown",
   "metadata": {},
   "source": [
    "$$\n",
    "out(s)-in(s) = 0 \\quad \\forall s \\in S \\setminus (G\\cup \\{s_0\\} ) \\tag{C7}\n",
    "$$"
   ]
  },
  {
   "cell_type": "markdown",
   "metadata": {},
   "source": [
    "$$\n",
    "out(s_0)-in(s_0) = 1 \\tag{C8}\n",
    "$$"
   ]
  },
  {
   "cell_type": "markdown",
   "metadata": {},
   "source": [
    "# Code"
   ]
  },
  {
   "cell_type": "code",
   "execution_count": 1,
   "metadata": {},
   "outputs": [
    {
     "name": "stdout",
     "output_type": "stream",
     "text": [
      "D2a1 = 0.0\n",
      "D3a1 = 0.0\n",
      "IN_D1 = 0.666667\n",
      "IN_D2 = 0.0\n",
      "IN_D3 = 0.0\n",
      "IN_S0 = 0.333333\n",
      "IN_S1 = 0.666667\n",
      "IN_S2 = 0.0\n",
      "IN_Sg = 0.333333\n",
      "OUT_D1 = 0.666667\n",
      "OUT_D2 = 0.0\n",
      "OUT_D3 = 0.0\n",
      "OUT_S0 = 1.33333\n",
      "OUT_S1 = 0.666667\n",
      "OUT_S2 = 0.0\n",
      "S0a0 = 1.33333\n",
      "S0a1 = 0.0\n",
      "S1a0 = 0.666667\n",
      "S2a1 = 0.0\n",
      "MaxProb = 0.333333\n"
     ]
    }
   ],
   "source": [
    "from pulp import *\n",
    "\n",
    "SSP = LpProblem(\"SSP01\", LpMaximize)\n",
    "\n",
    "\n",
    "S0a0 = LpVariable(\"S0a0\", 0)\n",
    "S0a1 = LpVariable(\"S0a1\", 0)\n",
    "S1a0 = LpVariable(\"S1a0\", 0)\n",
    "S2a1 = LpVariable(\"S2a1\", 0)\n",
    "D2a1 = LpVariable(\"D2a1\", 0)\n",
    "D3a1 = LpVariable(\"D3a1\", 0)\n",
    "\n",
    "OUT_S0 = LpVariable(\"OUT_S0\",0)\n",
    "OUT_S1 = LpVariable(\"OUT_S1\",0)\n",
    "OUT_S2 = LpVariable(\"OUT_S2\",0)\n",
    "OUT_Sg = LpVariable(\"OUT_Sg\",0)\n",
    "OUT_D1 = LpVariable(\"OUT_D1\",0)\n",
    "OUT_D2 = LpVariable(\"OUT_D2\",0)\n",
    "OUT_D3 = LpVariable(\"OUT_D3\",0)\n",
    "\n",
    "IN_S0 = LpVariable(\"IN_S0\",0)\n",
    "IN_S1 = LpVariable(\"IN_S1\",0)\n",
    "IN_S2 = LpVariable(\"IN_S2\",0)\n",
    "IN_Sg = LpVariable(\"IN_Sg\",0)\n",
    "IN_D1 = LpVariable(\"IN_D1\",0)\n",
    "IN_D2 = LpVariable(\"IN_D2\",0)\n",
    "IN_D3 = LpVariable(\"IN_D3\",0)\n",
    "\n",
    "#Objective\n",
    "\n",
    "SSP += IN_Sg\n",
    "\n",
    "#C1\n",
    "#C2\n",
    "\n",
    "SSP += IN_S0 == S2a1*0.25 + S1a0*0.5\n",
    "SSP += IN_S1 == S0a0*0.5\n",
    "SSP += IN_S2 == S0a1\n",
    "SSP += IN_Sg == S1a0*0.5 + S2a1*0.25\n",
    "SSP += IN_D1 == S0a0*0.5\n",
    "SSP += IN_D2 == S2a1*0.5 + D3a1\n",
    "SSP += IN_D3 == D2a1\n",
    "\n",
    "#C3\n",
    "\n",
    "SSP += OUT_S0 == S0a0 + S0a1 \n",
    "SSP += OUT_S1 == S1a0  \n",
    "SSP += OUT_S2 == S2a1\n",
    "SSP += OUT_D2 == D2a1 \n",
    "SSP += OUT_D3 == D3a1\n",
    "\n",
    "#C7\n",
    "#SSP += OUT_S0 - IN_S0 == 0\n",
    "SSP += OUT_S1 - IN_S1 == 0\n",
    "SSP += OUT_S2 - IN_S2 == 0 \n",
    "#SSP += OUT_Sg - IN_Sg == 0\n",
    "SSP += OUT_D1 - IN_D1 == 0\n",
    "SSP += OUT_D2 - IN_D2 == 0\n",
    "SSP += OUT_D3 - IN_D3 == 0\n",
    "\n",
    "#C8\n",
    "\n",
    "SSP += OUT_S0 - IN_S0 == 1\n",
    "\n",
    "GLPK().solve(SSP)\n",
    "\n",
    "# Solution\n",
    "for v in SSP.variables():\n",
    "\tprint(v.name, \"=\", v.varValue)\n",
    "\n",
    "print(\"MaxProb =\", value(SSP.objective) )\n"
   ]
  },
  {
   "cell_type": "code",
   "execution_count": null,
   "metadata": {
    "collapsed": true
   },
   "outputs": [],
   "source": []
  },
  {
   "cell_type": "code",
   "execution_count": null,
   "metadata": {
    "collapsed": true
   },
   "outputs": [],
   "source": []
  }
 ],
 "metadata": {
  "kernelspec": {
   "display_name": "Python 3",
   "language": "python",
   "name": "python3"
  },
  "language_info": {
   "codemirror_mode": {
    "name": "ipython",
    "version": 3
   },
   "file_extension": ".py",
   "mimetype": "text/x-python",
   "name": "python",
   "nbconvert_exporter": "python",
   "pygments_lexer": "ipython3",
   "version": "3.6.3"
  }
 },
 "nbformat": 4,
 "nbformat_minor": 2
}
